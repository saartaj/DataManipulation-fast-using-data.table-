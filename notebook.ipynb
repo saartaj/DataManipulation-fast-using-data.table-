{
  "nbformat": 4,
  "nbformat_minor": 0,
  "metadata": {
    "kernelspec": {
      "name": "ir",
      "display_name": "R",
      "language": "R"
    },
    "language_info": {
      "name": "R",
      "codemirror_mode": "r",
      "pygments_lexer": "r",
      "mimetype": "text/x-r-source",
      "file_extension": ".r",
      "version": "3.5.3"
    },
    "colab": {
      "name": "notebook.ipynb",
      "provenance": [],
      "collapsed_sections": []
    }
  },
  "cells": [
    {
      "cell_type": "markdown",
      "metadata": {
        "dc": {
          "key": "4"
        },
        "deletable": false,
        "editable": false,
        "run_control": {
          "frozen": true
        },
        "tags": [
          "context"
        ],
        "id": "rOYtx31w-4ON"
      },
      "source": [
        "## 1. This patient may have sepsis\n",
        "<p>Sepsis is a deadly syndrome where a patient has a severe infection that causes organ failure. The sooner septic patients are treated, the more likely they are to survive, but sepsis can be challenging to recognize. It may be possible to use hospital data to develop machine learning models that could flag patients who are likely to be septic. However, before we develop predictive algorithms, we need a reliable method to determine patients who are septic. One component of sepsis is a severe infection.</p>\n",
        "<p>In this project, we will use two weeks of hospital electronic health record (EHR) data to find out which patients had a severe infection according to four criteria. We will look into the data to see if a doctor ordered a blood test to look for bacteria (a blood culture) and gave the patient a series of intervenous antibiotics. </p>\n",
        "<p>Let's get started!</p>"
      ]
    },
    {
      "cell_type": "code",
      "metadata": {
        "dc": {
          "key": "4"
        },
        "tags": [
          "sample_code"
        ],
        "trusted": false,
        "id": "SNXkDMYn-4OP",
        "colab": {
          "base_uri": "https://localhost:8080/",
          "height": 335
        },
        "outputId": "00bf6d77-b9a5-4cae-e241-7f7de8835b52"
      },
      "source": [
        "# Load packages\n",
        "# .... YOUR CODE FOR TASK 1 ....\n",
        "install.packages(\"data.table\")\n",
        "library(data.table)\n",
        "\n",
        "# Read in the data\n",
        "antibioticDT <- fread(\"antibioticDT.csv\")\n",
        "\n",
        "# Look at the first 30 rows\n",
        "# .... YOUR CODE FOR TASK 1 ....\n",
        "head(antibioticDT, n =  30)"
      ],
      "execution_count": null,
      "outputs": [
        {
          "output_type": "stream",
          "text": [
            "Installing package into ‘/usr/local/lib/R/site-library’\n",
            "(as ‘lib’ is unspecified)\n",
            "\n"
          ],
          "name": "stderr"
        },
        {
          "output_type": "error",
          "ename": "ERROR",
          "evalue": "ignored",
          "traceback": [
            "Error in fread(\"antibioticDT.csv\"): File 'antibioticDT.csv' does not exist or is non-readable. getwd()=='/content'\nTraceback:\n",
            "1. fread(\"antibioticDT.csv\")",
            "2. stop(\"File '\", file, \"' does not exist or is non-readable. getwd()=='\", \n .     getwd(), \"'\")"
          ]
        }
      ]
    },
    {
      "cell_type": "markdown",
      "metadata": {
        "dc": {
          "key": "11"
        },
        "deletable": false,
        "editable": false,
        "run_control": {
          "frozen": true
        },
        "tags": [
          "context"
        ],
        "id": "yA2NhZIZ-4Oj"
      },
      "source": [
        "## 2. Which antibiotics are \"new\"?\n",
        "<p>These data represent all drugs administered in a hospital over two weeks. Each row represents one time a patient was given an antibiotic. The variables include the patient identification number, the day the drug was administered, the name of the antibiotic, and how it was administered. For example, patient \"8\" received doxycycline by mouth on the first day of their stay.</p>\n",
        "<p>We will identify patients with a serious infection using the following criteria. </p>\n",
        "<p><strong>Criteria for Suspected Infection</strong><a href=\"https://www.ncbi.nlm.nih.gov/pubmed/28903154\">*</a></p>\n",
        "<ol>\n",
        "<li>The patient receives antibiotics for a sequence of four days, with gaps of one day allowed.</li>\n",
        "<li>The sequence must start with a new antibiotic, defined as an antibiotic type that was not given in the previous two days.</li>\n",
        "<li>The sequence must start within two days of a blood culture.</li>\n",
        "<li>There must be at least one intervenous (I.V.) antibiotic within the +/-2 day window.</li>\n",
        "</ol>\n",
        "<p>Let's start with the second item by finding which rows represent \"new antibiotics\". We will determine if each antibiotic was given to the patient in the prior two days. We'll visualize this task by looking at the data sorted by id, antibiotic type, and day.</p>"
      ]
    },
    {
      "cell_type": "code",
      "metadata": {
        "dc": {
          "key": "11"
        },
        "tags": [
          "sample_code"
        ],
        "trusted": false,
        "id": "reE9RX03-4Oq"
      },
      "source": [
        "# Sort the data and examine the first 40 rows\n",
        "# .... YOUR CODE FOR TASK 2 .....\n",
        "setorder(antibioticDT, patient_id, antibiotic_type, day_given)\n",
        "\n",
        "# Use shift to calculate the last day a particular drug was administered\n",
        "antibioticDT[ , last_administration_day := shift(day_given, type = \"lag\"), \n",
        "  by = .(patient_id, antibiotic_type)]\n",
        "\n",
        "# Calculate the number of days since the drug was last administered\n",
        "antibioticDT[ , days_since_last_admin := day_given - last_administration_day]\n",
        "\n",
        "# Create antibiotic_new with an initial value of one, then reset it to zero as needed\n",
        "# .... YOUR CODE FOR TASK 2 .....\n",
        "antibioticDT[, antibiotic_new := ifelse(days_since_last_admin <= 2, 0, last_administration_day) ]"
      ],
      "execution_count": null,
      "outputs": []
    },
    {
      "cell_type": "markdown",
      "metadata": {
        "dc": {
          "key": "18"
        },
        "deletable": false,
        "editable": false,
        "run_control": {
          "frozen": true
        },
        "tags": [
          "context"
        ],
        "id": "TPyHI7IC-4Ow"
      },
      "source": [
        "## 3. Looking at the blood culture data\n",
        "<p>Now let's look at blood culture data from the same two-week period in this hospital. These data are in <code>blood_cultureDT.csv</code>. Let's start by reading it into the workspace and having a look at a few rows. </p>\n",
        "<p>Each row represents one blood culture and gives the patient's id and the day the blood culture test occurred. For example, patient \"8\" had a blood culture on the second day of their hospitalization and again on the thirteenth day. Notice that some patients from the antibiotic dataset are not in this dataset and vice versa. Some patients are in neither because they received neither antibiotics nor a blood culture.</p>"
      ]
    },
    {
      "cell_type": "code",
      "metadata": {
        "dc": {
          "key": "18"
        },
        "tags": [
          "sample_code"
        ],
        "trusted": false,
        "id": "zXI28OZx-4Ox"
      },
      "source": [
        "# Read in blood_cultureDT.csv\n",
        "blood_cultureDT <- fread(\"blood_cultureDT.csv\")\n",
        "\n",
        "# Print the first 30 rows\n",
        "# .... YOUR CODE FOR TASK 3 ....\n",
        "head(blood_cultureDT, 30)"
      ],
      "execution_count": null,
      "outputs": []
    },
    {
      "cell_type": "markdown",
      "metadata": {
        "dc": {
          "key": "25"
        },
        "deletable": false,
        "editable": false,
        "run_control": {
          "frozen": true
        },
        "tags": [
          "context"
        ],
        "id": "zfbyM_dA-4O2"
      },
      "source": [
        "## 4. Combine the antibiotic data and the blood culture data\n",
        "<p>To find which antibiotics were given close to a blood culture test, we need to combine the drug administration data with the blood culture data. We'll keep only patients that are still candidates for infection&mdash;only those in both data sets.</p>\n",
        "<p>A challenge with the data is that some patients had blood cultures on several different days. For each of those days, we will see if there is a sequence of antibiotic days close to them. To accomplish this, in the merge we will match each blood culture to each antibiotic day.</p>\n",
        "<p>After sorting the data following the merge, you will see that each patient's antibiotic sequence repeats for each blood culture day. This repetition allows us to look at each blood culture day and check if it is associated with a qualifying sequence of antibiotics.</p>"
      ]
    },
    {
      "cell_type": "code",
      "metadata": {
        "dc": {
          "key": "25"
        },
        "tags": [
          "sample_code"
        ],
        "trusted": false,
        "id": "TOdXRiau-4O4"
      },
      "source": [
        "# Merge antibioticDT with blood_cultureDT\n",
        "combinedDT <- merge(antibioticDT,cultureDT, by = \"patient_id\")\n",
        "\n",
        "# Sort by patient_id, blood_culture_day, day_given, and antibiotic_type\n",
        "# .... YOUR CODE FOR TASK 4 .....\n",
        "setorder(combinedDT, patient_id, blood_culture_day,\n",
        "                         day_given, antibiotic_type)\n",
        "\n",
        "# Print and examine the first 30 rows\n",
        "# .... YOUR CODE FOR TASK 4 .....\n",
        "head(combinedDT)"
      ],
      "execution_count": null,
      "outputs": []
    },
    {
      "cell_type": "markdown",
      "metadata": {
        "dc": {
          "key": "32"
        },
        "deletable": false,
        "editable": false,
        "run_control": {
          "frozen": true
        },
        "tags": [
          "context"
        ],
        "id": "N9KYc-cA-4O_"
      },
      "source": [
        "## 5. Determine whether each row is in-window\n",
        "<p>Now that we have the antibiotic and blood culture data combined, we can test each drug administration against each blood culture to see if it's \"in the window.\"</p>"
      ]
    },
    {
      "cell_type": "code",
      "metadata": {
        "dc": {
          "key": "32"
        },
        "tags": [
          "sample_code"
        ],
        "trusted": false,
        "id": "ldO49i57-4O_"
      },
      "source": [
        "# Make a new variable called drug_in_bcx_window\n",
        "# ....YOUR CODE FOR TASK 5 ....\n",
        "combinedDT[, drug_in_bcx_window := ifelse(abs(day_given - blood_culture_day) < 2, 1, 0)]"
      ],
      "execution_count": null,
      "outputs": []
    },
    {
      "cell_type": "markdown",
      "metadata": {
        "dc": {
          "key": "39"
        },
        "deletable": false,
        "editable": false,
        "run_control": {
          "frozen": true
        },
        "tags": [
          "context"
        ],
        "id": "ebwk72sp-4PE"
      },
      "source": [
        "## 6. Check the I.V. requirement\n",
        "<p>Now let's look at the fourth item in the criteria. </p>\n",
        "<p><strong>Criteria for Suspected Infection</strong><a href=\"https://www.ncbi.nlm.nih.gov/pubmed/28903154\">*</a></p>\n",
        "<ol>\n",
        "<li>The patient receives antibiotics for a sequence of four days, with gaps of one day allowed.</li>\n",
        "<li>The sequence must start with a new antibiotic, defined as an antibiotic type that was not given in the previous two days.</li>\n",
        "<li>The sequence must start within two days of a blood culture.</li>\n",
        "<li><em>There must be at least one intervenous (I.V.) antibiotic within the +/-2 day window.</em></li>\n",
        "</ol>"
      ]
    },
    {
      "cell_type": "code",
      "metadata": {
        "dc": {
          "key": "39"
        },
        "tags": [
          "sample_code"
        ],
        "trusted": false,
        "id": "__HdNGtd-4PF"
      },
      "source": [
        "# Create a variable indicating if there was at least one I.V. drug given in the window\n",
        "# .... YOUR CODE FOR TASK 6 ....\n",
        "combinedDT[, any_iv_in_bcx_window := any(route == \"IV\" |drug_in_bcx_window== 1), \n",
        "           by = .(patient_id,blood_culture_day)]\n",
        "# Exclude rows in which the blood_culture_day does not have any I.V. drugs in window \n",
        "# .... YOUR CODE FOR TASK 6 ....\n",
        "combinedDT_IV = combinedDT[route == \"IV\",]"
      ],
      "execution_count": null,
      "outputs": []
    },
    {
      "cell_type": "markdown",
      "metadata": {
        "dc": {
          "key": "46"
        },
        "deletable": false,
        "editable": false,
        "run_control": {
          "frozen": true
        },
        "tags": [
          "context"
        ],
        "id": "ZPknCZu1-4PN"
      },
      "source": [
        "## 7. Find the first day of possible sequences\n",
        "<p>We're getting close! Let's review the criteria again.</p>\n",
        "<p><strong>Criteria for Suspected Infection</strong><a href=\"https://www.ncbi.nlm.nih.gov/pubmed/28903154\">*</a></p>\n",
        "<ol>\n",
        "<li>The patient receives antibiotics for a sequence of four days, with gaps of one day allowed.</li>\n",
        "<li>The sequence must start with a new antibiotic, defined as an antibiotic type that was not given in the previous two days.</li>\n",
        "<li>The sequence must start within two days of a blood culture.</li>\n",
        "<li>There must be at least one intervenous (I.V.) antibiotic within the +/-2 day window.</li>\n",
        "</ol>\n",
        "<p>Let's assess the first criterion by finding the first day of possible 4-day qualifying sequences.    </p>"
      ]
    },
    {
      "cell_type": "code",
      "metadata": {
        "dc": {
          "key": "46"
        },
        "tags": [
          "sample_code"
        ],
        "trusted": false,
        "id": "wm2PuF13-4PP"
      },
      "source": [
        "# Create a new variable called day_of_first_new_abx_in_window\n",
        "# .... YOUR CODE FOR TASK 7 ....\n",
        "combinedDT_IV[, day_of_first_new_abx_in_window := day_given, by = blood_culture_day]\n",
        "\n",
        "# Remove rows where the day is before this first qualifying day\n",
        "# .... YOUR CODE FOR TASK 7 ....\n",
        "combinedDT[!day_given < day_given[1]]"
      ],
      "execution_count": null,
      "outputs": []
    },
    {
      "cell_type": "markdown",
      "metadata": {
        "dc": {
          "key": "53"
        },
        "deletable": false,
        "editable": false,
        "run_control": {
          "frozen": true
        },
        "tags": [
          "context"
        ],
        "id": "mZ_JO_Mk-4PU"
      },
      "source": [
        "## 8. Simplify the data\n",
        "<p>The first criterion is: <em>The patient receives antibiotics for a sequence of four days, with gaps of one day allowed.</em></p>\n",
        "<p>We've pinned down the first day of possible sequences in the previous task. Now we have to check for four-day sequences. We don't need the drug type (name); we need the days the antibiotics were administered.</p>"
      ]
    },
    {
      "cell_type": "code",
      "metadata": {
        "dc": {
          "key": "53"
        },
        "tags": [
          "sample_code"
        ],
        "trusted": false,
        "id": "lhqpNfbK-4PV",
        "colab": {
          "base_uri": "https://localhost:8080/",
          "height": 95
        },
        "outputId": "1fb5d96e-16aa-447c-92f7-5dc0a357031e"
      },
      "source": [
        "# Create a new data.table containing only patient_id, blood_culture_day, and day_given\n",
        "simplified_data <- combinedDT[, .(patient_id, blood_culture_day, day_given)]\n",
        "\n",
        "# Remove duplicate rows\n",
        "#.... YOUR CODE FOR TASK 8 ....\n",
        "setkey(simplified_data, NULL)\n",
        "simplified_data <- unique(simplified_data)"
      ],
      "execution_count": null,
      "outputs": [
        {
          "output_type": "error",
          "ename": "ERROR",
          "evalue": "ignored",
          "traceback": [
            "Error in eval(expr, envir, enclos): object 'combinedDT' not found\nTraceback:\n"
          ]
        }
      ]
    },
    {
      "cell_type": "markdown",
      "metadata": {
        "dc": {
          "key": "60"
        },
        "deletable": false,
        "editable": false,
        "run_control": {
          "frozen": true
        },
        "tags": [
          "context"
        ],
        "id": "ew-9wf_0-4PY"
      },
      "source": [
        "## 9. Extract first four rows for each blood culture\n",
        "<p>To check for four-day sequences, let's pull out the first four days (rows) for each patient/blood culture combination. Some patients will have less than four antibiotic days. We'll remove them first.</p>"
      ]
    },
    {
      "cell_type": "code",
      "metadata": {
        "dc": {
          "key": "60"
        },
        "tags": [
          "sample_code"
        ],
        "trusted": false,
        "id": "tahLGAEy-4PZ",
        "colab": {
          "base_uri": "https://localhost:8080/",
          "height": 95
        },
        "outputId": "00bc116d-2d3f-402f-ed50-94220ff083c2"
      },
      "source": [
        "# Count the antibiotic days within each patient/blood culture day combination\n",
        "# .... YOUR CODE FOR TASK 9 ....\n",
        "simplified_data[, num_antibiotic_days := .N, by = .(patient_id, blood_culture_day)]\n",
        "\n",
        "# Remove blood culture days with less than four rows \n",
        "simplified_data <- simplified_data[!blood_culture_day < 4,  ]\n",
        "\n",
        "# Select the first four days for each blood culture\n",
        "first_four_days <- simplified_table[, .SD[1:4] , by = blood_culture_day]\n"
      ],
      "execution_count": null,
      "outputs": [
        {
          "output_type": "error",
          "ename": "ERROR",
          "evalue": "ignored",
          "traceback": [
            "Error in eval(expr, envir, enclos): object 'simplified_data' not found\nTraceback:\n"
          ]
        }
      ]
    },
    {
      "cell_type": "markdown",
      "metadata": {
        "id": "8IC0xrazR2KW"
      },
      "source": [
        ""
      ]
    },
    {
      "cell_type": "markdown",
      "metadata": {
        "dc": {
          "key": "67"
        },
        "deletable": false,
        "editable": false,
        "run_control": {
          "frozen": true
        },
        "tags": [
          "context"
        ],
        "id": "OHKK5MTI-4Pc"
      },
      "source": [
        "## 10. Consecutive sequence\n",
        "<p>Now we need to check whether each four-day sequence qualifies by having no gaps of more than one day.</p>\n",
        "<!--\"Patient receives antibiotics for a sequence of 4 days, with gaps of 1 day allowed.\"-->"
      ]
    },
    {
      "cell_type": "code",
      "metadata": {
        "dc": {
          "key": "67"
        },
        "tags": [
          "sample_code"
        ],
        "trusted": false,
        "id": "ugT6azg--4Pc"
      },
      "source": [
        "# Make the indicator for consecutive sequence\n",
        "# .... YOUR CODE FOR TASK 9 ....\n",
        "first_four_days <- simplified_data[, four_in_seq :=\n",
        "                    ifelse((day_given - shift(simplified_data$day_given,type = \"lag\")) == 2,1,0)]\n"
      ],
      "execution_count": null,
      "outputs": []
    },
    {
      "cell_type": "markdown",
      "metadata": {
        "dc": {
          "key": "74"
        },
        "deletable": false,
        "editable": false,
        "run_control": {
          "frozen": true
        },
        "tags": [
          "context"
        ],
        "id": "NRjEvNFi-4Pf"
      },
      "source": [
        "## 11. Select the patients who meet criteria\n",
        "<p>A patient would meet the criteria if any of their blood cultures were accompanied by a qualifying sequence of antibiotics. Now that we've determined which each blood culture qualify let's select the patients who meet the criteria.</p>"
      ]
    },
    {
      "cell_type": "code",
      "metadata": {
        "dc": {
          "key": "74"
        },
        "tags": [
          "sample_code"
        ],
        "trusted": false,
        "id": "Ujte1VnB-4Pf"
      },
      "source": [
        "# Select the rows which have four_in_seq equal to 1\n",
        "suspected_infection <- first_four_days[four_in_seq == 1]\n",
        "\n",
        "# Retain only the patient_id column\n",
        "# .... YOUR CODE FOR TASK 9 ....\n",
        "suspected_infection <- suspected_infection[, .(patient_id)]\n",
        "# Remove duplicates\n",
        "# .... YOUR CODE FOR TASK 9 ....\n",
        "suspected_infection <- unique(suspected_infection)\n",
        "# Make an infection indicator\n",
        "# .... YOUR CODE FOR TASK 9 ....\n",
        "suspected_infection[, infection_indicator := 1]"
      ],
      "execution_count": null,
      "outputs": []
    },
    {
      "cell_type": "markdown",
      "metadata": {
        "dc": {
          "key": "81"
        },
        "deletable": false,
        "editable": false,
        "run_control": {
          "frozen": true
        },
        "tags": [
          "context"
        ],
        "id": "xlkM6fo9-4Pj"
      },
      "source": [
        "## 12. Find the prevalence of sepsis\n",
        "<p>In this project, we used two EHR datasets to flag patients who were suspected of having a serious infection. We also got a <code>data.table</code> workout!</p>\n",
        "<p>So far, we've been looking at records of all antibiotics administered and blood cultures that occurred over two weeks at a particular hospital. However, not all patients who were hospitalized over this period are represented in <code>combinedDT</code> because not all of them took antibiotics or had blood culture tests. We have to read in and merge the rest of the patient information to see what percentage of patients at the hospital might have had a serious infection.</p>"
      ]
    },
    {
      "cell_type": "code",
      "metadata": {
        "dc": {
          "key": "81"
        },
        "tags": [
          "sample_code"
        ],
        "trusted": false,
        "id": "lAB3Jdmi-4Pj"
      },
      "source": [
        "# Read in \"all_patients.csv\"\n",
        "all_patientsDT <- fread(\"all_patients.csv\")\n",
        "\n",
        "# Merge this with the infection flag data\n",
        "all_patientsDT <- merge(all_patientsDT, suspected_insfection, by = \"patient_id\")\n",
        "\n",
        "# Set any missing values of the infection flag to 0\n",
        "# .... YOUR CODE FOR TASK 12 ....\n",
        "all_patientsDT <- all_patientsDT[, infection_indicator := ifelse(is.na(infection_indicator), 0 , 1)] \n",
        "\n",
        "# Calculate the percentage of patients who met the criteria for presumed infection\n",
        "ans  <- prop.table(table(all_patientsDT[,infection_indicator]))\n",
        "ans"
      ],
      "execution_count": null,
      "outputs": []
    }
  ]
}